{
 "cells": [
  {
   "cell_type": "markdown",
   "metadata": {},
   "source": [
    "# ATS Project \n",
    "# An Engine to switch between Momentum and Mean-reverting strategy\n",
    "\n",
    "Lecturer: Robert Wojciechowski\n",
    "\n",
    "Student: Quynh Bui (393519)"
   ]
  },
  {
   "cell_type": "markdown",
   "metadata": {},
   "source": [
    "# I. Prepare functions"
   ]
  },
  {
   "cell_type": "markdown",
   "metadata": {},
   "source": [
    "First, we should load some necessary library"
   ]
  },
  {
   "cell_type": "code",
   "execution_count": 1,
   "metadata": {},
   "outputs": [],
   "source": [
    "from numpy import *\n",
    "import numpy as np\n",
    "import pandas as pd\n",
    "%matplotlib inline\n",
    "import matplotlib.pyplot as plt\n",
    "from IPython.display import display, HTML"
   ]
  },
  {
   "cell_type": "markdown",
   "metadata": {},
   "source": [
    "## 1. Mean"
   ]
  },
  {
   "cell_type": "code",
   "execution_count": 2,
   "metadata": {},
   "outputs": [],
   "source": [
    "# MEAN\n",
    "def Mean(inputA):\n",
    "    mysum = 0\n",
    "    for i in range(len(inputA)):\n",
    "        mysum = mysum + inputA[i]\n",
    "    \n",
    "    return mysum/len(inputA)"
   ]
  },
  {
   "cell_type": "markdown",
   "metadata": {},
   "source": [
    "## 2. Standard deviation"
   ]
  },
  {
   "cell_type": "code",
   "execution_count": 3,
   "metadata": {},
   "outputs": [],
   "source": [
    "# STANDARD DEVIATION\n",
    "def Std(inputA):\n",
    "    mymean = Mean(inputA)\n",
    "    mysum = 0\n",
    "    for i in range(len(inputA)):\n",
    "        mysum = mysum + (inputA[i] - mymean)**2\n",
    "        \n",
    "    return (mysum/(len(inputA)-1))**0.5"
   ]
  },
  {
   "cell_type": "markdown",
   "metadata": {},
   "source": [
    "## 3. Sharpe Ratio"
   ]
  },
  {
   "cell_type": "code",
   "execution_count": 4,
   "metadata": {},
   "outputs": [],
   "source": [
    "# SHARPE RATIO\n",
    "\n",
    "def SR(listA, r_f = 0.00001, scale = (252**0.5)):\n",
    "    return (Mean(listA) - r_f)/Std(listA) * scale"
   ]
  },
  {
   "cell_type": "markdown",
   "metadata": {},
   "source": [
    "## 4. Information Ratio"
   ]
  },
  {
   "cell_type": "code",
   "execution_count": 5,
   "metadata": {},
   "outputs": [
    {
     "data": {
      "text/plain": [
       "-5.612486080160912"
      ]
     },
     "execution_count": 5,
     "metadata": {},
     "output_type": "execute_result"
    }
   ],
   "source": [
    "# INFORMATION RATIO\n",
    "\n",
    "def IR(listA, listB, scale = 252**0.5):\n",
    "    \n",
    "    if len(listA) != len(listB):\n",
    "        print('2 series should have the same length')\n",
    "        return\n",
    "    \n",
    "    myreturn = [listA[i] - listB[i] for i in range(len(listA))]\n",
    "    return_ = Mean(myreturn)\n",
    "    std_ = Std(myreturn)\n",
    "    \n",
    "    return return_/std_ * scale\n",
    "\n",
    "list1 = [1, 3, 4, 6, 8] \n",
    "list2 = [4, 5, 6, 2, 10]\n",
    "IR(list1, list2)\n",
    "#IR(return_total_train, SP500_return_train)"
   ]
  },
  {
   "cell_type": "markdown",
   "metadata": {},
   "source": [
    "## 5. Maximum Drawdown "
   ]
  },
  {
   "cell_type": "code",
   "execution_count": 6,
   "metadata": {},
   "outputs": [
    {
     "data": {
      "text/plain": [
       "-0.5"
      ]
     },
     "execution_count": 6,
     "metadata": {},
     "output_type": "execute_result"
    }
   ],
   "source": [
    "# MAXIMUM DRAWDOWN\n",
    "\n",
    "def MaxDD(valueList):\n",
    "    \n",
    "    dList = list()\n",
    "    \n",
    "    for i in range(1, len(valueList)):\n",
    "        myMax = max(valueList[0:i])\n",
    "        if myMax != 0:\n",
    "            D_t = (valueList[i] - myMax)/myMax\n",
    "        else:\n",
    "            D_t = 0\n",
    "        dList.append(D_t)\n",
    "    \n",
    "    return min(dList)\n",
    "\n",
    "values = [0,0,0,2,4,2,4,3,3,3]\n",
    "MaxDD(values)"
   ]
  },
  {
   "cell_type": "markdown",
   "metadata": {},
   "source": [
    "## 6. Exponential Moving Average"
   ]
  },
  {
   "cell_type": "code",
   "execution_count": 7,
   "metadata": {},
   "outputs": [
    {
     "name": "stdout",
     "output_type": "stream",
     "text": [
      "[50 51 52 53 54 55 56 57 58 59 60  7 10 13 16 19 22 25 28 31 34 37 40]\n",
      "[nan, nan, nan, 51.5, 52.5, 53.5, 54.5, 55.5, 56.5, 57.5, 58.5, 37.9, 26.74, 21.244, 19.1464, 19.08784, 20.252704, 22.1516224, 24.49097344, 27.094584064000003, 29.856750438400002, 32.71405026304, 35.628430157824]\n",
      "True\n",
      "[51.5        52.5        53.5        54.5        55.5        56.5\n",
      " 57.5        58.5        37.9        26.74       21.244      19.1464\n",
      " 19.08784    20.252704   22.1516224  24.49097344 27.09458406 29.85675044\n",
      " 32.71405026 35.62843016]\n"
     ]
    }
   ],
   "source": [
    "# EXPONENTIAL MOVING AVERAGE\n",
    "def EMA(listA, window_size):\n",
    "    \n",
    "    # create a NaN list having the same size as input\n",
    "    result = [np.nan for i in range(len(listA))]\n",
    "    multiplier = 2/(window_size + 1)\n",
    "    \n",
    "    for i in range(len(listA) - window_size + 1):\n",
    "        \n",
    "        window_last_index = i + window_size-1\n",
    "        \n",
    "        # The result of each window calculation is put at the last index of the window\n",
    "        if i == 0:\n",
    "            result[window_last_index] = Mean(listA[i:window_last_index+1])\n",
    "        \n",
    "        else:\n",
    "            previous_EMA = result[window_last_index - 1]\n",
    "            result[window_last_index] = (\n",
    "                listA[window_last_index] - previous_EMA)*multiplier + previous_EMA\n",
    "    \n",
    "    return result\n",
    "\n",
    "listA = np.asarray([i for i in range(50, 61)] + [j for j in range(7, 41, 3)])\n",
    "print(listA)\n",
    "\n",
    "# We will have the result with the same size as input list, \n",
    "# with some initial values = nan (depend on window size)\n",
    "print(EMA(listA, 4))\n",
    "print(np.isnan(EMA(listA, 4)[0]))\n",
    "\n",
    "myEMA = np.asarray(EMA(listA, 4))\n",
    "myEMA = myEMA[~np.isnan(myEMA)]\n",
    "print(myEMA)"
   ]
  },
  {
   "cell_type": "markdown",
   "metadata": {},
   "source": [
    "## 7. Rolling standard deviation "
   ]
  },
  {
   "cell_type": "code",
   "execution_count": 8,
   "metadata": {},
   "outputs": [
    {
     "name": "stdout",
     "output_type": "stream",
     "text": [
      "[-0.16582598  0.52622412  1.08422253  0.02356088 -2.26256206 -0.84419318\n",
      "  0.02921429 -0.22671964  0.29334535 -0.05822099 -0.37689815  1.12301771\n",
      " -1.0243123   1.10697325  0.33610349  0.23311965  1.73503101  0.93651305\n",
      "  0.04973888 -0.32563996]\n",
      "[nan, nan, nan, 0.560242332397232, 1.4689477284713812, 1.4152703734868572, 1.0803640152048175, 1.025438109417499, 0.4868130279078135, 0.21705809679552238, 0.28806731674676334, 0.6460010990019674, 0.8995429963282359, 1.0810653941998931, 1.0090369560271475, 0.88236001037351, 0.7056709863206388, 0.6901827353425176, 0.7663951037225438, 0.9239639834195252]\n"
     ]
    }
   ],
   "source": [
    "# ROLLING STANDARD DEVIATION\n",
    "def roll_sd(listA, window_size):\n",
    "    \n",
    "    # create a NaN list having the same size as input\n",
    "    result = [np.nan for i in range(len(listA))]\n",
    "    \n",
    "    for i in range(len(listA) - window_size + 1):\n",
    "        window_last_index = i + window_size-1\n",
    "        \n",
    "        # The result of each window calculation is put at the last index of the window\n",
    "        result[window_last_index] = Std(listA[i:window_last_index+1])\n",
    "    \n",
    "    return result\n",
    "\n",
    "listA = np.random.normal(size = (2,20))\n",
    "print(listA[0])\n",
    "\n",
    "# We will have the result with the same size as input list, \n",
    "# with some initial values = nan (depend on window size)\n",
    "print(roll_sd(listA[0], 4))"
   ]
  },
  {
   "cell_type": "markdown",
   "metadata": {},
   "source": [
    "## 8. Cumulative simple return"
   ]
  },
  {
   "cell_type": "code",
   "execution_count": 9,
   "metadata": {},
   "outputs": [
    {
     "data": {
      "text/plain": [
       "[1, 1.3, 1.4949999999999999, 1.196, 1.4949999999999999, 1.0913499999999998]"
      ]
     },
     "execution_count": 9,
     "metadata": {},
     "output_type": "execute_result"
    }
   ],
   "source": [
    "def cum_ret(listA):\n",
    "    \n",
    "    res = []\n",
    "    sum_prod = 1\n",
    "    for i in range(len(listA)):\n",
    "        sum_prod = sum_prod * (1+listA[i])\n",
    "        res.append(sum_prod)\n",
    "    \n",
    "    return res\n",
    "\n",
    "myreturn = [0, 0.3, 0.15, -0.2, 0.25, -0.27]\n",
    "cum_ret(myreturn)\n",
    "    "
   ]
  },
  {
   "cell_type": "markdown",
   "metadata": {},
   "source": [
    "## 9. Breakout Volatility model "
   ]
  },
  {
   "cell_type": "code",
   "execution_count": 10,
   "metadata": {},
   "outputs": [
    {
     "name": "stdout",
     "output_type": "stream",
     "text": [
      "[0, 1, -1, -1, 1, 1, 1, -1, -1, -1, 1, -1, -1, -1, 1, 1, -1, -1, -1, -1]\n"
     ]
    }
   ],
   "source": [
    "# BREAKOUT VOLATILITY MODEL\n",
    "\n",
    "def breakout_vol(signal, lower, upper, strategy = \"mr\"): # strategy should be \"mom\" for momentum or \"mr\" for mean-reverting\n",
    "    \n",
    "    if strategy not in (\"mom\", \"mr\"):\n",
    "        print(\"Please use 'mom' or 'mr' for strategy!\")\n",
    "        return\n",
    "    \n",
    "    # we create an array position filled with 0 and has the same length as signal\n",
    "    position = zeros(len(signal), dtype = int8)\n",
    "    \n",
    "    for i in range(1, len(signal)):\n",
    "         \n",
    "        if (np.isnan(signal[i-1]) == False) and (np.isnan(lower[i-1]) == False) and (np.isnan(upper[i-1]) == False) :\n",
    "            \n",
    "            # Here we generate signal for mean-reverting strategy\n",
    "            # what if the previous position is 0\n",
    "            if position[i-1] == 0:\n",
    "                if signal[i-1] > upper[i-1]:\n",
    "                    position[i] = -1 # switch to short position as long as signal > upper threshold\n",
    "                if signal[i-1] < lower[i-1]:\n",
    "                    position[i] = 1 # switch to long position as long as signal > lower threshold\n",
    "            \n",
    "            # what if the previous position is -1\n",
    "            elif position[i-1] == -1:\n",
    "                if signal[i-1] > lower[i-1]:  \n",
    "                    position[i] = -1 # keep short position as long as signal > lower threshold\n",
    "                if signal[i-1] < lower[i-1]:\n",
    "                    position[i] = 1 # switch to long position as long as signal < lower threshold\n",
    "                \n",
    "            # what if the previous position is 1\n",
    "            elif position[i-1] == 1:\n",
    "                if signal[i-1] < upper[i-1]:  \n",
    "                    position[i] = 1 # keep long position as long as signal < upper threshold\n",
    "                if signal[i-1] > upper[i-1]:\n",
    "                    position[i] = -1 # switch to short position as long as signal > upper threshold \n",
    "            \n",
    "        # if signal or lower or upper has Nan value\n",
    "        else:\n",
    "            position[i] = position[i-1]\n",
    "    \n",
    "    # reverse the position if the strategy is momentum\n",
    "    if strategy == \"mom\":\n",
    "        position = [-position[i] for i in range(len(position))]\n",
    "    \n",
    "    return position\n",
    "    \n",
    "signal = np.random.normal(size = (20))\n",
    "lower = np.random.normal(size = (20))\n",
    "upper = np.random.normal(size = (20))\n",
    "\n",
    "print(breakout_vol(signal = signal, lower = lower, upper = upper, strategy = 'mom'))"
   ]
  },
  {
   "cell_type": "markdown",
   "metadata": {},
   "source": [
    "## 10. Hurst Exponent \n",
    "\n",
    "The function to calculate Hurst exponent is sourced from external file 'genhurst.py'.\n",
    "\n",
    "The source of this function is: https://github.com/PTRRupprecht/GenHurst"
   ]
  },
  {
   "cell_type": "code",
   "execution_count": 1,
   "metadata": {},
   "outputs": [
    {
     "name": "stderr",
     "output_type": "stream",
     "text": [
      "C:\\Users\\wazza\\Google Drive\\CucCungHu\\code\\Python\\ATS2019_Project_Code_QUYNH_BUI_393519\\genhurst.py:65: RuntimeWarning: divide by zero encountered in log10\n",
      "  my = np.mean(np.log10(mcord))\n",
      "C:\\Users\\wazza\\Google Drive\\CucCungHu\\code\\Python\\ATS2019_Project_Code_QUYNH_BUI_393519\\genhurst.py:66: RuntimeWarning: divide by zero encountered in log10\n",
      "  SSxy = np.sum(np.multiply(np.log10(x), np.transpose(np.log10(mcord)))) - Tmax*mx*my\n",
      "C:\\Users\\wazza\\Google Drive\\CucCungHu\\code\\Python\\ATS2019_Project_Code_QUYNH_BUI_393519\\genhurst.py:66: RuntimeWarning: invalid value encountered in double_scalars\n",
      "  SSxy = np.sum(np.multiply(np.log10(x), np.transpose(np.log10(mcord)))) - Tmax*mx*my\n"
     ]
    },
    {
     "data": {
      "text/plain": [
       "0.044994945963679825"
      ]
     },
     "execution_count": 1,
     "metadata": {},
     "output_type": "execute_result"
    }
   ],
   "source": [
    "from genhurst import *\n",
    "\n",
    "signal = np.random.normal(size = (1000))\n",
    "# print(type(signal))\n",
    "genhurst (signal, maxT = 250)"
   ]
  },
  {
   "cell_type": "markdown",
   "metadata": {},
   "source": [
    "# II. Data "
   ]
  },
  {
   "cell_type": "code",
   "execution_count": 14,
   "metadata": {},
   "outputs": [
    {
     "name": "stdout",
     "output_type": "stream",
     "text": [
      "        Date    Adj_Close   Close_prev       Diff  Simple_Return\n",
      "0  6/27/2007  1506.339966          NaN        NaN            NaN\n",
      "1  6/28/2007  1505.709961  1506.339966  -0.630005      -0.000418\n",
      "2  6/29/2007  1503.349976  1505.709961  -2.359985      -0.001567\n",
      "3   7/2/2007  1519.430054  1503.349976  16.080078       0.010696\n",
      "4   7/3/2007  1524.869995  1519.430054   5.439941       0.003580\n",
      "Date             2898\n",
      "Adj_Close        2898\n",
      "Close_prev       2897\n",
      "Diff             2897\n",
      "Simple_Return    2897\n",
      "dtype: int64\n",
      "0    1506.339966\n",
      "1    1505.709961\n",
      "2    1503.349976\n",
      "3    1519.430054\n",
      "4    1524.869995\n",
      "Name: Adj_Close, dtype: float64\n",
      "[1506.339966 1505.709961 1503.349976 1519.430054 1524.869995]\n"
     ]
    },
    {
     "data": {
      "text/html": [
       "<div>\n",
       "<style scoped>\n",
       "    .dataframe tbody tr th:only-of-type {\n",
       "        vertical-align: middle;\n",
       "    }\n",
       "\n",
       "    .dataframe tbody tr th {\n",
       "        vertical-align: top;\n",
       "    }\n",
       "\n",
       "    .dataframe thead th {\n",
       "        text-align: right;\n",
       "    }\n",
       "</style>\n",
       "<table border=\"1\" class=\"dataframe\">\n",
       "  <thead>\n",
       "    <tr style=\"text-align: right;\">\n",
       "      <th></th>\n",
       "      <th>Date</th>\n",
       "      <th>Adj_Close</th>\n",
       "    </tr>\n",
       "  </thead>\n",
       "  <tbody>\n",
       "    <tr>\n",
       "      <th>2141</th>\n",
       "      <td>12/28/2015</td>\n",
       "      <td>2056.500000</td>\n",
       "    </tr>\n",
       "    <tr>\n",
       "      <th>2142</th>\n",
       "      <td>12/29/2015</td>\n",
       "      <td>2078.360107</td>\n",
       "    </tr>\n",
       "    <tr>\n",
       "      <th>2143</th>\n",
       "      <td>12/30/2015</td>\n",
       "      <td>2063.360107</td>\n",
       "    </tr>\n",
       "  </tbody>\n",
       "</table>\n",
       "</div>"
      ],
      "text/plain": [
       "            Date    Adj_Close\n",
       "2141  12/28/2015  2056.500000\n",
       "2142  12/29/2015  2078.360107\n",
       "2143  12/30/2015  2063.360107"
      ]
     },
     "execution_count": 14,
     "metadata": {},
     "output_type": "execute_result"
    }
   ],
   "source": [
    "#Load data\n",
    "SP500 = pd.read_csv('SP500.csv')\n",
    "SP500 = SP500.drop(['Open', 'High','Low', 'Close','Volume'], axis=1)\n",
    "SP500 = SP500.rename(columns = {'Adj Close':'Adj_Close'})\n",
    "SP500['Close_prev'] = SP500['Adj_Close'].shift(1)\n",
    "SP500['Diff'] = SP500['Adj_Close'] - SP500['Close_prev']\n",
    "SP500['Simple_Return'] = (SP500['Diff']/SP500['Close_prev'])\n",
    "print(SP500.head())\n",
    "print(SP500.count()) # we have 2898 obsevations here\n",
    "\n",
    "print(SP500.Adj_Close.iloc[0:5])\n",
    "print(SP500.Adj_Close.values[0:5])\n",
    "SP500.iloc[2141: 2144, 0:2]"
   ]
  },
  {
   "cell_type": "markdown",
   "metadata": {},
   "source": [
    "# III. Building trading strategy "
   ]
  },
  {
   "cell_type": "markdown",
   "metadata": {},
   "source": [
    "## 1. Divide data set"
   ]
  },
  {
   "cell_type": "code",
   "execution_count": 15,
   "metadata": {},
   "outputs": [
    {
     "name": "stdout",
     "output_type": "stream",
     "text": [
      "        Date    Adj_Close   Close_prev       Diff  Simple_Return\n",
      "0  6/27/2007  1506.339966          NaN        NaN            NaN\n",
      "1  6/28/2007  1505.709961  1506.339966  -0.630005      -0.000418\n",
      "2  6/29/2007  1503.349976  1505.709961  -2.359985      -0.001567\n",
      "3   7/2/2007  1519.430054  1503.349976  16.080078       0.010696\n",
      "4   7/3/2007  1524.869995  1519.430054   5.439941       0.003580\n",
      "5   7/5/2007  1525.400024  1524.869995   0.530029       0.000348\n",
      "6   7/6/2007  1530.439941  1525.400024   5.039917       0.003304\n",
      "7   7/9/2007  1531.849976  1530.439941   1.410035       0.000921\n",
      "8  7/10/2007  1510.119995  1531.849976 -21.729981      -0.014185\n",
      "9  7/11/2007  1518.760010  1510.119995   8.640015       0.005721\n",
      "Date             2142\n",
      "Adj_Close        2142\n",
      "Close_prev       2141\n",
      "Diff             2141\n",
      "Simple_Return    2141\n",
      "dtype: int64\n",
      "         Date    Adj_Close   Close_prev       Diff  Simple_Return\n",
      "0  12/29/2015  2078.360107  2056.500000  21.860107       0.010630\n",
      "1  12/30/2015  2063.360107  2078.360107 -15.000000      -0.007217\n",
      "2  12/31/2015  2043.939941  2063.360107 -19.420166      -0.009412\n",
      "3    1/4/2016  2012.660034  2043.939941 -31.279907      -0.015304\n",
      "4    1/5/2016  2016.709961  2012.660034   4.049927       0.002012\n",
      "5    1/6/2016  1990.260010  2016.709961 -26.449951      -0.013115\n",
      "6    1/7/2016  1943.089966  1990.260010 -47.170044      -0.023700\n",
      "7    1/8/2016  1922.030029  1943.089966 -21.059937      -0.010838\n",
      "8   1/11/2016  1923.670044  1922.030029   1.640015       0.000853\n",
      "9   1/12/2016  1938.680054  1923.670044  15.010010       0.007803\n",
      "Date             756\n",
      "Adj_Close        756\n",
      "Close_prev       756\n",
      "Diff             756\n",
      "Simple_Return    756\n",
      "dtype: int64\n"
     ]
    }
   ],
   "source": [
    "# We divide data set into training data and test data\n",
    "\n",
    "SP500_train = SP500.iloc[0:2142, :] \n",
    "# here the first 126 observations (last 6 months of 2007) are used only for \n",
    "# Hurst exponent calculation (to determine strategy), EMA and rolling std calculation \n",
    "# at the beginning of 2008. We start trading at the beginning of 2008.\n",
    "SP500_train.reset_index(drop = True, inplace = True) # reset index to start counting at 0\n",
    "print(SP500_train.head(10))\n",
    "print(SP500_train.count()) # training set has 2142 observations, \n",
    "                           # which is about 73% whole sample\n",
    "\n",
    "# Similarly to training data, the first 126 observations of testing data (first 6 months of 2016) \n",
    "# are used only for Hurst exponent, EMA and rolling std calculation at the beginning of 2016. \n",
    "# We start trading from June of 2016\n",
    "SP500_test = SP500.iloc[2142:, :]\n",
    "SP500_test.reset_index(drop = True, inplace = True) # reset index to start counting at 0\n",
    "print(SP500_test.head(10))\n",
    "print(SP500_test.count()) # testing set has 756 (882 - 126) observations, \n",
    "                          # which is about 26% whole sample\n",
    "\n",
    "# theprice =  SP500_train.Adj_Close.values[0:10].copy()\n",
    "# print(theprice)\n",
    "# theprice[0] = 0\n",
    "# print(theprice)\n",
    "# print(SP500_train.head(10))"
   ]
  },
  {
   "cell_type": "markdown",
   "metadata": {},
   "source": [
    "## 2. Training data "
   ]
  },
  {
   "cell_type": "markdown",
   "metadata": {},
   "source": [
    "First, we calculate the Hurst exponent in advanced for the training data. The calculation is conducted at the beginning of each 6 months starting from beginning of 2008 and based on the historical data of the past 6 months. The q variable in genhurst function is fixed to be 1 and maxT is normally equal to 1/4 of length of time series. Here, we assume that every 6 months has 126 observations, so maxT is set to be 30."
   ]
  },
  {
   "cell_type": "code",
   "execution_count": 16,
   "metadata": {},
   "outputs": [
    {
     "name": "stdout",
     "output_type": "stream",
     "text": [
      "[0.47541963 0.38473048 0.40982695 0.4625857  0.42230285 0.59721149\n",
      " 0.41206793 0.45774405 0.42793779 0.48444737 0.41518921 0.36142105\n",
      " 0.52885604 0.40103538 0.55825307 0.33595092]\n"
     ]
    }
   ],
   "source": [
    "# myseries = SP500.Adj_Close.values[126:252]\n",
    "# print(genhurst(myseries, q = 1, maxT = 30))\n",
    "# print(len(myseries))\n",
    "\n",
    "Hurst_exponent_train = np.zeros(16)\n",
    "\n",
    "for i in range(16): # in total, we will switch strategy 16 times for training set, \n",
    "                    # so we need to calculate Hurst exponent 16 times\n",
    "    myseries = SP500_train.Adj_Close.values[(i*126):(i*126 + 126)]\n",
    "    Hurst_exponent_train[i] = genhurst(myseries, 1, 30)\n",
    "    \n",
    "print(Hurst_exponent_train)"
   ]
  },
  {
   "cell_type": "code",
   "execution_count": 17,
   "metadata": {},
   "outputs": [
    {
     "name": "stderr",
     "output_type": "stream",
     "text": [
      "C:\\Anaconda3\\lib\\site-packages\\ipykernel_launcher.py:4: RuntimeWarning: divide by zero encountered in double_scalars\n",
      "  after removing the cwd from sys.path.\n"
     ]
    }
   ],
   "source": [
    "# Training data\n",
    "\n",
    "for signal_size in (10, 15, 20, 30, 45):\n",
    "    for EMA_size in (10, 20, 30, 45, 60, 90):\n",
    "        for vol_size in (10, 20, 30, 45, 60, 90, 120):\n",
    "            for m in (0.3, 0.5, 0.7, 1, 1.5, 2):\n",
    "\n",
    "                for i in range(1, 17): # we have 2142 observations, so we will switch strategy 16 times (2142/126 - 1 = 16)\n",
    "                                       # and we start trading at the beginning of 2008, so i should start from 1, not 0\n",
    "\n",
    "                    myPrice = SP500_train.Adj_Close.values[(i*126):(i*126 + 126)].copy()\n",
    "                    \n",
    "                    # Here, we smooth the time series of price by fast EMA (from 10 to 45) and use it as a signal\n",
    "                    # in the volatility breakout model instead of the price series itself\n",
    "                    mySignal = np.asarray(EMA(SP500_train.Adj_Close.values[(i*126 - signal_size+1):(i*126 + 126)].copy(), \n",
    "                                              signal_size))\n",
    "                    mySignal = mySignal[~np.isnan(mySignal)]\n",
    "                    \n",
    "                    # Now, we calculate the Upper and Lower thresholds for the breakout model\n",
    "                    myEMA = np.asarray(EMA(SP500_train.Adj_Close.values[(i*126 - EMA_size+1):(i*126 + 126)].copy(), EMA_size))\n",
    "                    myEMA = myEMA[~np.isnan(myEMA)]\n",
    "                    \n",
    "                    myVol = np.asarray(roll_sd(SP500_train.Adj_Close.values[(i*126 - vol_size+1):(i*126 + 126)].copy(), \n",
    "                                               vol_size))\n",
    "                    myVol = myVol[~np.isnan(myVol)]\n",
    "                    \n",
    "                    myLower = myEMA - m * myVol\n",
    "                    myUpper = myEMA + m * myVol\n",
    "                    \n",
    "                    # Based on Hurst exponent, we determine the strategy for the period (momentum or mean-reverting)\n",
    "                    hurst = Hurst_exponent_train[i-1]\n",
    "\n",
    "                    if hurst < 0.5:\n",
    "                        pos = np.asarray(breakout_vol (signal = mySignal, \n",
    "                                                       lower = myLower,\n",
    "                                                       upper = myUpper,\n",
    "                                                       strategy = \"mr\")) # if hurst < 0.5, we apply mean-reverting strategy\n",
    "                    elif hurst > 0.5:\n",
    "                        pos = np.asarray(breakout_vol (signal = mySignal, \n",
    "                                                       lower = myLower,\n",
    "                                                       upper = myUpper,\n",
    "                                                       strategy = \"mom\")) # if hurst > 0.5, we apply momentum strategy\n",
    "                    else:\n",
    "                        pos = np.ones(len(myPrice)) # else we just apply buy & hold for that period\n",
    "\n",
    "                    # We calculate number of transactions by taking 1st difference of position\n",
    "                    ntrans = np.asarray([abs(pos[i] - pos[i-1]) for i in range(1, len(pos))])\n",
    "                    # To have the same length as pos array, we add 1 more element at the beginning of ntrans array\n",
    "                    # the position at the beginning is just 0\n",
    "                    ntrans = np.insert(ntrans, 0, 0)\n",
    "\n",
    "                    # The transaction cost is assumed to be 0.01%, we trade on 100 units, so we calculate the daily\n",
    "                    # gain/loss as Difference_in_price * position * 100 - no_of_trans * 0.0001 * price * 100\n",
    "                    myDiff = SP500_train.Diff.values[(i*126):(i*126 + 126)].copy()\n",
    "                    PnL = myDiff * 100 * pos  - ntrans * 0.0001 * myPrice * 100 \n",
    "\n",
    "                    # Then we calculate the net return:\n",
    "                    trading_return = PnL/(myPrice * 100)\n",
    "\n",
    "                    if 'return_total' not in locals() and 'return_total' not in globals():\n",
    "                        return_total = trading_return.copy()\n",
    "                    else:\n",
    "                        return_total = hstack((return_total, trading_return))\n",
    "\n",
    "                    del myPrice, mySignal, myEMA, myVol, myLower, myUpper, hurst, pos, ntrans, myDiff, PnL, trading_return\n",
    "                    # del return_total\n",
    "\n",
    "\n",
    "                myMean = Mean(return_total)*252 # Annualized Returns\n",
    "                myStd = Std(return_total) * (252**0.5) # Annualized Std\n",
    "                mySR = SR(return_total) # Annualized Sharpe Ratio\n",
    "\n",
    "                if 'result_df' not in locals() and 'result_df' not in globals():\n",
    "                    # initialize list of lists \n",
    "                    result = [[signal_size, EMA_size, vol_size, m, myMean, myStd, mySR]] \n",
    "                    # Create the pandas DataFrame \n",
    "                    result_df = pd.DataFrame(result, columns = ['signal_size', 'EMA_size', 'vol_size', 'm', 'AR', 'AS','SR']) \n",
    "                else:\n",
    "                    result = [signal_size, EMA_size, vol_size, m, myMean, myStd, mySR]\n",
    "                    result_df = result_df.append(pd.Series(result, index = result_df.columns ), ignore_index=True)\n",
    "\n",
    "                del return_total, mySR, myMean, myStd, result\n",
    "                # del result_df      "
   ]
  },
  {
   "cell_type": "code",
   "execution_count": 18,
   "metadata": {},
   "outputs": [
    {
     "name": "stdout",
     "output_type": "stream",
     "text": [
      "      signal_size  EMA_size  vol_size    m        AR        AS        SR\n",
      "1250         45.0      90.0      90.0  0.7 -0.035009  0.130058 -0.288555\n",
      "1251         45.0      90.0      90.0  1.0  0.003969  0.086633  0.016723\n",
      "1252         45.0      90.0      90.0  1.5  0.000000  0.000000      -inf\n",
      "1253         45.0      90.0      90.0  2.0  0.000000  0.000000      -inf\n",
      "1254         45.0      90.0     120.0  0.3 -0.083297  0.217673 -0.394248\n",
      "1255         45.0      90.0     120.0  0.5 -0.030469  0.213108 -0.154800\n",
      "1256         45.0      90.0     120.0  0.7 -0.015955  0.109417 -0.168849\n",
      "1257         45.0      90.0     120.0  1.0  0.000000  0.000000      -inf\n",
      "1258         45.0      90.0     120.0  1.5  0.000000  0.000000      -inf\n",
      "1259         45.0      90.0     120.0  2.0  0.000000  0.000000      -inf\n",
      "      signal_size  EMA_size  vol_size    m        AR        AS        SR\n",
      "1010         45.0      10.0      10.0  0.7  0.127582  0.217737  0.574371\n",
      "1033         45.0      10.0      60.0  0.5  0.116978  0.217078  0.527268\n",
      "758          30.0      10.0      10.0  0.7  0.117413  0.219582  0.523237\n",
      "781          30.0      10.0      60.0  0.5  0.113636  0.212799  0.522163\n",
      "1070         45.0      20.0      45.0  0.7  0.102176  0.193633  0.514662\n"
     ]
    }
   ],
   "source": [
    "print(result_df.tail(10))\n",
    "print(result_df.nlargest(5, 'SR'))"
   ]
  },
  {
   "cell_type": "markdown",
   "metadata": {},
   "source": [
    "From the result above, we can see that the combination of parameters: \n",
    "signal_size = 45, EMA_size = 10, vol_size = 10, m = 0.7\n",
    "gives us the highest possible result with SR = 59.43%, with annualized return = 13.32% and annualized Std = 22%\n",
    "So now, we use this combination of parameters to re-generate the array of return (in the optimize process above, we have\n",
    "deleted the return_total array, just save the resulting AR, AS and SR in the result_df dataframe)."
   ]
  },
  {
   "cell_type": "code",
   "execution_count": 19,
   "metadata": {},
   "outputs": [
    {
     "name": "stdout",
     "output_type": "stream",
     "text": [
      "AR: 0.1275820531993541\n",
      "AS: 0.21773739909733847\n",
      "SR: 0.5743710254545922\n",
      "No. of trades: 60\n",
      "2016\n",
      "[ 0.         -0.          0.         -0.         -0.          0.\n",
      " -0.         -0.0033129   0.01869537 -0.01344096]\n",
      "[1.         1.         1.         1.         1.         1.\n",
      " 1.         0.9966871  1.01532053 1.00167364]\n"
     ]
    }
   ],
   "source": [
    "signal_size = 45\n",
    "EMA_size = 10\n",
    "vol_size = 10\n",
    "m = 0.7\n",
    "\n",
    "if 'return_total_train' in locals() or 'return_total_train' in globals():\n",
    "    del return_total_train\n",
    "\n",
    "for i in range(1, 17): # we have 2142 observations, so we will switch strategy 16 times (2142/126 - 1 = 16)\n",
    "                   # and we start trading at the beginning of 2008, so i should start from 1, not 0\n",
    "\n",
    "    myPrice = SP500_train.Adj_Close.values[(i*126):(i*126 + 126)].copy()\n",
    "\n",
    "    # Here, we smooth the time series of price by fast EMA (from 10 to 45) and use it as a signal\n",
    "    # in the volatility breakout model instead of the price series itself\n",
    "    mySignal = np.asarray(EMA(SP500_train.Adj_Close.values[(i*126 - signal_size+1):(i*126 + 126)].copy(), \n",
    "                              signal_size))\n",
    "    mySignal = mySignal[~np.isnan(mySignal)]\n",
    "\n",
    "    # Now, we calculate the Upper and Lower thresholds for the breakout model\n",
    "    myEMA = np.asarray(EMA(SP500_train.Adj_Close.values[(i*126 - EMA_size+1):(i*126 + 126)].copy(), EMA_size))\n",
    "    myEMA = myEMA[~np.isnan(myEMA)]\n",
    "\n",
    "    myVol = np.asarray(roll_sd(SP500_train.Adj_Close.values[(i*126 - vol_size+1):(i*126 + 126)].copy(), \n",
    "                               vol_size))\n",
    "    myVol = myVol[~np.isnan(myVol)]\n",
    "\n",
    "    myLower = myEMA - m * myVol\n",
    "    myUpper = myEMA + m * myVol\n",
    "\n",
    "    # Based on Hurst exponent, we determine the strategy for the period (momentum or mean-reverting)\n",
    "    hurst = Hurst_exponent_train[i-1]\n",
    "\n",
    "    if hurst < 0.5:\n",
    "        pos = np.asarray(breakout_vol (signal = mySignal, \n",
    "                                       lower = myLower,\n",
    "                                       upper = myUpper,\n",
    "                                       strategy = \"mr\")) # if hurst < 0.5, we apply mean-reverting strategy\n",
    "    elif hurst > 0.5:\n",
    "        pos = np.asarray(breakout_vol (signal = mySignal, \n",
    "                                       lower = myLower,\n",
    "                                       upper = myUpper,\n",
    "                                       strategy = \"mom\")) # if hurst > 0.5, we apply momentum strategy\n",
    "    else:\n",
    "        pos = np.ones(len(myPrice)) # else we just apply buy & hold for that period\n",
    "\n",
    "    # We calculate number of transactions by taking 1st difference of position\n",
    "    ntrans = np.asarray([abs(pos[i] - pos[i-1]) for i in range(1, len(pos))])\n",
    "    # To have the same length as pos array, we add 1 more element at the beginning of ntrans array\n",
    "    # the position at the beginning is just 0\n",
    "    ntrans = np.insert(ntrans, 0, 0)\n",
    "\n",
    "    # The transaction cost is assumed to be 0.01%, we trade on 100 units, so we calculate the daily\n",
    "    # gain/loss as Difference_in_price * position * 100 - no_of_trans * 0.0001 * price * 100\n",
    "    myDiff = SP500_train.Diff.values[(i*126):(i*126 + 126)].copy()\n",
    "    PnL = myDiff * 100 * pos  - ntrans * 0.0001 * myPrice * 100 \n",
    "\n",
    "    # Then we calculate the net return:\n",
    "    trading_return = PnL/(myPrice * 100)\n",
    "\n",
    "    if 'return_total_train' not in locals() and 'return_total_train' not in globals():\n",
    "        return_total_train = trading_return.copy()\n",
    "    else:\n",
    "        return_total_train = hstack((return_total_train, trading_return))\n",
    "    \n",
    "    if 'trade_total_train' not in locals() and 'trade_total_train' not in globals():\n",
    "        trade_total_train = sum(ntrans)\n",
    "    else:\n",
    "        trade_total_train = trade_total_train + sum(ntrans) \n",
    "    \n",
    "    del myPrice, mySignal, myEMA, myVol, myLower, myUpper, hurst, pos, ntrans, myDiff, PnL, trading_return\n",
    "\n",
    "print(\"AR:\", Mean(return_total_train)*252) # Annualized Returns\n",
    "print(\"AS:\", Std(return_total_train) * (252**0.5)) # Annualized Std\n",
    "print(\"SR:\", SR(return_total_train)) # Annualized Sharpe Ratio\n",
    "print(\"No. of trades:\", trade_total_train) # total no. of trades\n",
    "print(len(return_total_train))\n",
    "print(return_total_train[0:10])\n",
    "\n",
    "# We also create an array of cumulative return\n",
    "cum_ret_train = np.asarray(cum_ret(return_total_train))\n",
    "print(cum_ret_train[0:10])"
   ]
  },
  {
   "cell_type": "markdown",
   "metadata": {},
   "source": [
    "Now, we calculate the performance of benchmark"
   ]
  },
  {
   "cell_type": "code",
   "execution_count": 20,
   "metadata": {},
   "outputs": [
    {
     "name": "stdout",
     "output_type": "stream",
     "text": [
      "AR: 0.06435095300395831\n",
      "AS: 0.2221947003479185\n",
      "SR: 0.27827375228635837\n",
      "2016\n",
      "[ 0.         -0.01428229  0.00150377 -0.00685159 -0.01443784  0.\n",
      " -0.02455155  0.00322326 -0.01835227  0.01362408]\n",
      "[1.         0.98571771 0.9872     0.98043611 0.96628073 0.96628073\n",
      " 0.94255704 0.94559514 0.92824133 0.94088777]\n"
     ]
    }
   ],
   "source": [
    "# BENCHMARK\n",
    "\n",
    "SP500_return_train = SP500_train.Simple_Return.values[126:].copy()\n",
    "# in the strategy above, we start trading at the beginning of 2008, \n",
    "# so we also exclude the first 126 observations (last 6 months of 2007)\n",
    "# so the benchmark and our trading strategy have the same trading period\n",
    "\n",
    "# We assume that the first return is 0 as there is no 'previous' price to calculate return on the first day\n",
    "# so it has the same starting point as our strategy\n",
    "SP500_return_train[0] = 0\n",
    "\n",
    "print(\"AR:\", Mean(SP500_return_train)*252) # Annualized Returns\n",
    "print(\"AS:\", Std(SP500_return_train) * (252**0.5)) # Annualized Std\n",
    "print(\"SR:\", SR(SP500_return_train))\n",
    "print(len(SP500_return_train))\n",
    "print(SP500_return_train[0:10])\n",
    "\n",
    "# We also create an array of cumulative return\n",
    "SP500_cum_train = np.asarray(cum_ret(SP500_return_train))\n",
    "print(SP500_cum_train[0:10])"
   ]
  },
  {
   "cell_type": "code",
   "execution_count": 21,
   "metadata": {},
   "outputs": [
    {
     "name": "stdout",
     "output_type": "stream",
     "text": [
      "MD_train: -2.230876785473455\n",
      "MD_SP500: -17.326673071679384\n",
      "IR: 0.16773421449262987\n"
     ]
    }
   ],
   "source": [
    "print(\"MD_train:\", MaxDD(return_total_train))\n",
    "print(\"MD_SP500:\", MaxDD(SP500_return_train))\n",
    "print(\"IR:\", IR(return_total_train, SP500_return_train))"
   ]
  },
  {
   "cell_type": "code",
   "execution_count": 22,
   "metadata": {},
   "outputs": [
    {
     "name": "stdout",
     "output_type": "stream",
     "text": [
      "            SP500_cum_train  cum_ret_train\n",
      "Date                                      \n",
      "2007-12-26         1.000000       1.000000\n",
      "2007-12-27         0.985718       1.000000\n",
      "2007-12-28         0.987200       1.000000\n",
      "2007-12-31         0.980436       1.000000\n",
      "2008-01-02         0.966281       1.000000\n",
      "2008-01-03         0.966281       1.000000\n",
      "2008-01-04         0.942557       1.000000\n",
      "2008-01-07         0.945595       0.996687\n",
      "2008-01-08         0.928241       1.015321\n",
      "2008-01-09         0.940888       1.001674\n",
      "SP500_cum_train    2016\n",
      "cum_ret_train      2016\n",
      "dtype: int64\n"
     ]
    }
   ],
   "source": [
    "cum_ret_df = SP500_train.iloc[126:, 0:1].copy()\n",
    "cum_ret_df['SP500_cum_train'] = SP500_cum_train\n",
    "cum_ret_df['cum_ret_train'] = cum_ret_train\n",
    "cum_ret_df['Date'] = pd.to_datetime(cum_ret_df['Date'])\n",
    "cum_ret_df = cum_ret_df.set_index('Date')\n",
    "print(cum_ret_df.head(10))\n",
    "print(cum_ret_df.count())"
   ]
  },
  {
   "cell_type": "code",
   "execution_count": 23,
   "metadata": {},
   "outputs": [
    {
     "data": {
      "image/png": "[encoded data removed]",
      "text/plain": [
       "<Figure size 576x432 with 1 Axes>"
      ]
     },
     "metadata": {
      "needs_background": "light"
     },
     "output_type": "display_data"
    }
   ],
   "source": [
    "fig1 = cum_ret_df.plot(figsize = (8,6), title = \"Cumulative return of training set and SP500\")\n",
    "plt.savefig(\"fig1.png\")"
   ]
  },
  {
   "cell_type": "markdown",
   "metadata": {},
   "source": [
    "## 3. Testing data "
   ]
  },
  {
   "cell_type": "markdown",
   "metadata": {},
   "source": [
    "First, we calculate the Hurst exponent in advanced for the testing data. "
   ]
  },
  {
   "cell_type": "code",
   "execution_count": 24,
   "metadata": {},
   "outputs": [
    {
     "name": "stdout",
     "output_type": "stream",
     "text": [
      "[0.4393714  0.53608049 0.42742816 0.48052036 0.47864561]\n"
     ]
    }
   ],
   "source": [
    "# myseries = SP500.Adj_Close.values[126:252]\n",
    "# print(genhurst(myseries, q = 1, maxT = 30))\n",
    "# print(len(myseries))\n",
    "\n",
    "Hurst_exponent_test = np.zeros(5)\n",
    "\n",
    "for i in range(5): # in total, we will switch strategy 5 times for training set, \n",
    "                    # so we need to calculate Hurst exponent 5 times\n",
    "    myseries = SP500_test.Adj_Close.values[(i*126):(i*126 + 126)].copy()\n",
    "    Hurst_exponent_test[i] = genhurst(myseries, 1, 30)\n",
    "    \n",
    "print(Hurst_exponent_test)"
   ]
  },
  {
   "cell_type": "markdown",
   "metadata": {},
   "source": [
    "So, we apply the best set of parameters obtained above for the testing data."
   ]
  },
  {
   "cell_type": "code",
   "execution_count": 25,
   "metadata": {},
   "outputs": [
    {
     "name": "stdout",
     "output_type": "stream",
     "text": [
      "AR: 0.019030507644876005\n",
      "AS: 0.12206877033724607\n",
      "SR: 0.1352557873669205\n",
      "No. of trades: 15\n",
      "630\n",
      "[ 0.00000000e+00  0.00000000e+00  0.00000000e+00 -0.00000000e+00\n",
      "  0.00000000e+00 -0.00000000e+00  0.00000000e+00  0.00000000e+00\n",
      "  0.00000000e+00  3.47495664e-05]\n",
      "[1.         1.         1.         1.         1.         1.\n",
      " 1.         1.         1.         1.00003475]\n"
     ]
    }
   ],
   "source": [
    "signal_size = 45\n",
    "EMA_size = 10\n",
    "vol_size = 10\n",
    "m = 0.7\n",
    "\n",
    "if 'return_total_test' in locals() or 'return_total_test' in globals():\n",
    "    del return_total_test\n",
    "\n",
    "for i in range(1, 6): # we have 2142 observations, so we will switch strategy 16 times (2142/126 - 1 = 16)\n",
    "                      # and we start trading at June of 2016, so i should start from 1, not 0\n",
    "\n",
    "    myPrice = SP500_test.Adj_Close.values[(i*126):(i*126 + 126)].copy()\n",
    "\n",
    "    # Here, we smooth the time series of price by fast EMA (from 10 to 45) and use it as a signal\n",
    "    # in the volatility breakout model instead of the price series itself\n",
    "    mySignal = np.asarray(EMA(SP500_test.Adj_Close.values[(i*126 - signal_size+1):(i*126 + 126)].copy(), \n",
    "                              signal_size))\n",
    "    mySignal = mySignal[~np.isnan(mySignal)]\n",
    "\n",
    "    # Now, we calculate the Upper and Lower thresholds for the breakout model\n",
    "    myEMA = np.asarray(EMA(SP500_test.Adj_Close.values[(i*126 - EMA_size+1):(i*126 + 126)].copy(), EMA_size))\n",
    "    myEMA = myEMA[~np.isnan(myEMA)]\n",
    "\n",
    "    myVol = np.asarray(roll_sd(SP500_test.Adj_Close.values[(i*126 - vol_size+1):(i*126 + 126)].copy(), \n",
    "                               vol_size))\n",
    "    myVol = myVol[~np.isnan(myVol)]\n",
    "\n",
    "    myLower = myEMA - m * myVol\n",
    "    myUpper = myEMA + m * myVol\n",
    "\n",
    "    # Based on Hurst exponent, we determine the strategy for the period (momentum or mean-reverting)\n",
    "    hurst = Hurst_exponent_test[i-1]\n",
    "\n",
    "    if hurst < 0.5:\n",
    "        pos = np.asarray(breakout_vol (signal = mySignal, \n",
    "                                       lower = myLower,\n",
    "                                       upper = myUpper,\n",
    "                                       strategy = \"mr\")) # if hurst < 0.5, we apply mean-reverting strategy\n",
    "    elif hurst > 0.5:\n",
    "        pos = np.asarray(breakout_vol (signal = mySignal, \n",
    "                                       lower = myLower,\n",
    "                                       upper = myUpper,\n",
    "                                       strategy = \"mom\")) # if hurst > 0.5, we apply momentum strategy\n",
    "    else:\n",
    "        pos = np.ones(len(myPrice)) # else we just apply buy & hold for that period\n",
    "\n",
    "    # We calculate number of transactions by taking 1st difference of position\n",
    "    ntrans = np.asarray([abs(pos[i] - pos[i-1]) for i in range(1, len(pos))])\n",
    "    # To have the same length as pos array, we add 1 more element at the beginning of ntrans array\n",
    "    # the position at the beginning is just 0\n",
    "    ntrans = np.insert(ntrans, 0, 0)\n",
    "\n",
    "    # The transaction cost is assumed to be 0.01%, we trade on 100 units, so we calculate the daily\n",
    "    # gain/loss as Difference_in_price * position * 100 - no_of_trans * 0.0001 * price * 100\n",
    "    myDiff = SP500_test.Diff.values[(i*126):(i*126 + 126)].copy()\n",
    "    PnL = myDiff * 100 * pos  - ntrans * 0.0001 * myPrice * 100 \n",
    "\n",
    "    # Then we calculate the net return:\n",
    "    trading_return = PnL/(myPrice * 100)\n",
    "\n",
    "    if 'return_total_test' not in locals() and 'return_total_test' not in globals():\n",
    "        return_total_test = trading_return.copy()\n",
    "    else:\n",
    "        return_total_test = hstack((return_total_test, trading_return))\n",
    "        \n",
    "    if 'trade_total_test' not in locals() and 'trade_total_test' not in globals():\n",
    "        trade_total_test = sum(ntrans)\n",
    "    else:\n",
    "        trade_total_test = trade_total_test + sum(ntrans)\n",
    "\n",
    "    del myPrice, mySignal, myEMA, myVol, myLower, myUpper, hurst, pos, ntrans, myDiff, PnL, trading_return\n",
    "\n",
    "print(\"AR:\", Mean(return_total_test)*252) # Annualized Returns\n",
    "print(\"AS:\", Std(return_total_test) * (252**0.5)) # Annualized Std\n",
    "print(\"SR:\", SR(return_total_test)) # Annualized Sharpe Ratio\n",
    "print(\"No. of trades:\", trade_total_test)\n",
    "print(len(return_total_test))\n",
    "print(return_total_test[0:10])\n",
    "\n",
    "# We also create an array of cumulative return\n",
    "cum_ret_test = np.asarray(cum_ret(return_total_test))\n",
    "print(cum_ret_test[0:10])"
   ]
  },
  {
   "cell_type": "code",
   "execution_count": 26,
   "metadata": {},
   "outputs": [
    {
     "name": "stdout",
     "output_type": "stream",
     "text": [
      "0.08063966637011785\n",
      "0.12294640933061565\n",
      "0.6353960786284206\n",
      "630\n",
      "[ 0.          0.01356504  0.0019486  -0.00684748  0.00535296 -0.00087158\n",
      "  0.01525335  0.00340862  0.00700929  0.00013477]\n",
      "[1.         1.01356504 1.01554008 1.00858619 1.01398512 1.01310135\n",
      " 1.02855454 1.03206049 1.0392945  1.03943456]\n"
     ]
    }
   ],
   "source": [
    "# BENCHMARK\n",
    "\n",
    "SP500_return_test = SP500_test.Simple_Return.values[126:].copy()\n",
    "# in the strategy above, we start trading in June of 2016, \n",
    "# so we also exclude the first 126 observations (first 6 months of 2016)\n",
    "# so the benchmark and our trading strategy have the same trading period\n",
    "\n",
    "# We assume that the first return is 0 as there is no 'previous' price to calculate return on the first day\n",
    "# so it has the same starting point as our strategy\n",
    "SP500_return_test[0] = 0\n",
    "\n",
    "print(Mean(SP500_return_test)*252) # Annualized Returns\n",
    "print(Std(SP500_return_test) * (252**0.5)) # Annualized Std\n",
    "print(SR(SP500_return_test))\n",
    "print(len(SP500_return_test))\n",
    "print(SP500_return_test[0:10])\n",
    "\n",
    "# We also create an array of cumulative return\n",
    "SP500_cum_test = np.asarray(cum_ret(SP500_return_test))\n",
    "print(SP500_cum_test[0:10])"
   ]
  },
  {
   "cell_type": "code",
   "execution_count": 27,
   "metadata": {},
   "outputs": [
    {
     "name": "stdout",
     "output_type": "stream",
     "text": [
      "MD_test: -3.9470340181593335\n",
      "MD_SP500: -2.8439554459440135\n",
      "IR: -0.3602712070156466\n"
     ]
    }
   ],
   "source": [
    "print(\"MD_test:\", MaxDD(return_total_test))\n",
    "print(\"MD_SP500:\", MaxDD(SP500_return_test))\n",
    "print(\"IR:\", IR(return_total_test, SP500_return_test))"
   ]
  },
  {
   "cell_type": "code",
   "execution_count": 28,
   "metadata": {},
   "outputs": [
    {
     "name": "stdout",
     "output_type": "stream",
     "text": [
      "            SP500_cum_test  cum_ret_test\n",
      "Date                                    \n",
      "2016-06-29        1.000000      1.000000\n",
      "2016-06-30        1.013565      1.000000\n",
      "2016-07-01        1.015540      1.000000\n",
      "2016-07-05        1.008586      1.000000\n",
      "2016-07-06        1.013985      1.000000\n",
      "2016-07-07        1.013101      1.000000\n",
      "2016-07-08        1.028555      1.000000\n",
      "2016-07-11        1.032060      1.000000\n",
      "2016-07-12        1.039295      1.000000\n",
      "2016-07-13        1.039435      1.000035\n",
      "SP500_cum_test    630\n",
      "cum_ret_test      630\n",
      "dtype: int64\n"
     ]
    }
   ],
   "source": [
    "cum_ret_df2 = SP500_test.iloc[126:, 0:1].copy()\n",
    "cum_ret_df2['SP500_cum_test'] = SP500_cum_test\n",
    "cum_ret_df2['cum_ret_test'] = cum_ret_test\n",
    "cum_ret_df2['Date'] = pd.to_datetime(cum_ret_df2['Date'])\n",
    "cum_ret_df2 = cum_ret_df2.set_index('Date')\n",
    "print(cum_ret_df2.head(10))\n",
    "print(cum_ret_df2.count())"
   ]
  },
  {
   "cell_type": "code",
   "execution_count": 29,
   "metadata": {},
   "outputs": [
    {
     "data": {
      "image/png": "[encoded data removed]",
      "text/plain": [
       "<Figure size 576x432 with 1 Axes>"
      ]
     },
     "metadata": {
      "needs_background": "light"
     },
     "output_type": "display_data"
    }
   ],
   "source": [
    "cum_ret_df2.plot(figsize = (8,6), title = \"Cumulative return of testing set and SP500\")\n",
    "plt.savefig(\"fig2.png\")"
   ]
  }
 ],
 "metadata": {
  "kernelspec": {
   "display_name": "Python 3",
   "language": "python",
   "name": "python3"
  },
  "language_info": {
   "codemirror_mode": {
    "name": "ipython",
    "version": 3
   },
   "file_extension": ".py",
   "mimetype": "text/x-python",
   "name": "python",
   "nbconvert_exporter": "python",
   "pygments_lexer": "ipython3",
   "version": "3.7.1"
  }
 },
 "nbformat": 4,
 "nbformat_minor": 2
}
